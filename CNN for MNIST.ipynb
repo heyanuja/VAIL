{
 "cells": [
  {
   "cell_type": "code",
   "execution_count": null,
   "id": "light-taylor",
   "metadata": {},
   "outputs": [],
   "source": [
    "from numpy import mean\n",
    "from numpy import std\n",
    "from matplotlib import pyplot\n",
    "from sklearn.model_selection import KFold\n",
    "from keras.datasets import mnist\n",
    "from keras.utils import to_categorical\n",
    "from keras.models import Sequential\n",
    "from keras.layers import Conv2D\n",
    "from keras.layers import MaxPooling2D\n",
    "from keras.layers import Dense\n",
    "from keras.layers import Flatten\n",
    "from keras.optimizers import SGD"
   ]
  },
  {
   "cell_type": "code",
   "execution_count": 23,
   "id": "adequate-harbor",
   "metadata": {},
   "outputs": [],
   "source": [
    "def load_dataset():\n",
    "\n",
    "    (trainX, trainY), (testX, testY) = mnist.load_data()\n",
    " \n",
    "    trainX = trainX.reshape((trainX.shape[0], 28, 28, 1))\n",
    "    testX = testX.reshape((testX.shape[0], 28, 28, 1))\n",
    "\n",
    "    trainY = to_categorical(trainY)\n",
    "    testY = to_categorical(testY)\n",
    "    return trainX, trainY, testX, testY"
   ]
  },
  {
   "cell_type": "code",
   "execution_count": 5,
   "id": "verbal-williams",
   "metadata": {},
   "outputs": [],
   "source": [
    "# scale pixels\n",
    "def prep_pixels(train, test):\n",
    " \n",
    " train_norm = train.astype('float32')\n",
    "     test_norm = test.astype('float32')\n",
    " \n",
    " train_norm = train_norm / 255.0\n",
    "     test_norm = test_norm / 255.0\n",
    " # return normalized images\n",
    " return train_norm, test_norm"
   ]
  },
  {
   "cell_type": "code",
   "execution_count": 21,
   "id": "ranging-siemens",
   "metadata": {},
   "outputs": [],
   "source": [
    "def define_model():\n",
    "    model = Sequential()\n",
    "    model.add(Conv2D(32, (3, 3), activation='relu', kernel_initializer='he_uniform', input_shape=(28, 28, 1)))\n",
    "    model.add(MaxPooling2D((2, 2)))\n",
    "    model.add(Flatten())\n",
    "    model.add(Dense(100, activation='relu', kernel_initializer='he_uniform'))\n",
    "    model.add(Dense(10, activation='softmax'))\n",
    " # compile model\n",
    "    opt = SGD(lr=0.01, momentum=0.9)\n",
    "    model.compile(optimizer=opt, loss='categorical_crossentropy', metrics=['accuracy'])\n",
    "    return model"
   ]
  },
  {
   "cell_type": "code",
   "execution_count": 18,
   "id": "general-scoop",
   "metadata": {},
   "outputs": [],
   "source": [
    "# evaluate a model using k-fold cross-validation\n",
    "def evaluate_model(dataX, dataY, n_folds=5):\n",
    "     scores, histories = list(), list()\n",
    " # prepare cross validation\n",
    "     kfold = KFold(n_folds, shuffle=True, random_state=1)\n",
    " # enumerate splits\n",
    "     for train_ix, test_ix in kfold.split(dataX):\n",
    " # define model\n",
    "         model = define_model()\n",
    " # select rows for train and test\n",
    "     trainX, trainY, testX, testY = dataX[train_ix], dataY[train_ix], dataX[test_ix], dataY[test_ix]\n",
    " # fit model\n",
    "     history = model.fit(trainX, trainY, epochs=10, batch_size=32, validation_data=(testX, testY), verbose=0)\n",
    " # evaluate model\n",
    "     _, acc = model.evaluate(testX, testY, verbose=0)\n",
    "     print('> %.3f' % (acc * 100.0))\n",
    " # stores scores\n",
    "     scores.append(acc)\n",
    "     histories.append(history)\n",
    "     return scores, histories"
   ]
  },
  {
   "cell_type": "code",
   "execution_count": 12,
   "id": "timely-psychiatry",
   "metadata": {},
   "outputs": [],
   "source": [
    "# plot diagnostic learning curves\n",
    "def summarize_diagnostics(histories):\n",
    "     for i in range(len(histories)):\n",
    " # plot loss\n",
    "         pyplot.subplot(2, 1, 1)\n",
    "     pyplot.title('Cross Entropy Loss')\n",
    "     pyplot.plot(histories[i].history['loss'], color='blue', label='train')\n",
    "     pyplot.plot(histories[i].history['val_loss'], color='orange', label='test')\n",
    " # plot accuracy\n",
    "     pyplot.subplot(2, 1, 2)\n",
    "     pyplot.title('Classification Accuracy')\n",
    "     pyplot.plot(histories[i].history['accuracy'], color='blue', label='train')\n",
    "     pyplot.plot(histories[i].history['val_accuracy'], color='orange', label='test')\n",
    "     pyplot.show()"
   ]
  },
  {
   "cell_type": "code",
   "execution_count": 26,
   "id": "legal-monroe",
   "metadata": {},
   "outputs": [],
   "source": [
    "# summarize model performance\n",
    "def summarize_performance(scores):\n",
    " # print summary\n",
    " print('Accuracy: mean=%.3f std=%.3f, n=%d' % (mean(scores)*100, std(scores)*100, len(scores)))\n",
    " # box and whisker plots of results\n",
    " pyplot.boxplot(scores)\n",
    " pyplot.show()"
   ]
  },
  {
   "cell_type": "code",
   "execution_count": 27,
   "id": "applicable-period",
   "metadata": {},
   "outputs": [],
   "source": [
    "# run the test harness for evaluating a model\n",
    "def run_test_harness():\n",
    " # load dataset\n",
    " trainX, trainY, testX, testY = load_dataset()\n",
    " # prepare pixel data\n",
    " trainX, testX = prep_pixels(trainX, testX)\n",
    " # evaluate model\n",
    " scores, histories = evaluate_model(trainX, trainY)\n",
    " # learning curves\n",
    " summarize_diagnostics(histories)\n",
    " # summarize estimated performance\n",
    " summarize_performance(scores)\n",
    " \n"
   ]
  },
  {
   "cell_type": "code",
   "execution_count": 35,
   "id": "seeing-prophet",
   "metadata": {},
   "outputs": [
    {
     "data": {
      "text/plain": [
       "<function __main__.run_test_harness()>"
      ]
     },
     "execution_count": 35,
     "metadata": {},
     "output_type": "execute_result"
    }
   ],
   "source": [
    "# entry point, run the test harness\n",
    "run_test_harness"
   ]
  },
  {
   "cell_type": "code",
   "execution_count": null,
   "id": "flush-canberra",
   "metadata": {},
   "outputs": [],
   "source": []
  }
 ],
 "metadata": {
  "kernelspec": {
   "display_name": "Python 3",
   "language": "python",
   "name": "python3"
  },
  "language_info": {
   "codemirror_mode": {
    "name": "ipython",
    "version": 3
   },
   "file_extension": ".py",
   "mimetype": "text/x-python",
   "name": "python",
   "nbconvert_exporter": "python",
   "pygments_lexer": "ipython3",
   "version": "3.9.2"
  }
 },
 "nbformat": 4,
 "nbformat_minor": 5
}
